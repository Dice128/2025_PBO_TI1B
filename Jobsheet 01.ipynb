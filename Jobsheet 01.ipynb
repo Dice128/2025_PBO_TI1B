{
  "nbformat": 4,
  "nbformat_minor": 0,
  "metadata": {
    "colab": {
      "provenance": [],
      "toc_visible": true,
      "authorship_tag": "ABX9TyNpSIcqLjlOvbnaaSgT2gmC",
      "include_colab_link": true
    },
    "kernelspec": {
      "name": "python3",
      "display_name": "Python 3"
    },
    "language_info": {
      "name": "python"
    }
  },
  "cells": [
    {
      "cell_type": "markdown",
      "metadata": {
        "id": "view-in-github",
        "colab_type": "text"
      },
      "source": [
        "<a href=\"https://colab.research.google.com/github/Dice128/2025_PBO_TI1B/blob/main/Jobsheet%2001.ipynb\" target=\"_parent\"><img src=\"https://colab.research.google.com/assets/colab-badge.svg\" alt=\"Open In Colab\"/></a>"
      ]
    },
    {
      "cell_type": "markdown",
      "source": [
        "# Jobsheet 01: Pemrograman Bahasa Python"
      ],
      "metadata": {
        "id": "ATlbs2MOosOu"
      }
    },
    {
      "cell_type": "markdown",
      "source": [
        "## Praktikum 01:"
      ],
      "metadata": {
        "id": "wSAZ8cRDpQwJ"
      }
    },
    {
      "cell_type": "code",
      "source": [
        "angka_int = 10\n",
        "print(angka_int)"
      ],
      "metadata": {
        "colab": {
          "base_uri": "https://localhost:8080/"
        },
        "id": "bl1_4fEYppO9",
        "outputId": "5a43d0ac-e5ad-4f49-b19b-fd7059353f6e"
      },
      "execution_count": 5,
      "outputs": [
        {
          "output_type": "stream",
          "name": "stdout",
          "text": [
            "10\n"
          ]
        }
      ]
    }
  ]
}