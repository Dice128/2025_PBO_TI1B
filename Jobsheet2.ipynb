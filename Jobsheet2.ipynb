{
  "nbformat": 4,
  "nbformat_minor": 0,
  "metadata": {
    "colab": {
      "provenance": [],
      "authorship_tag": "ABX9TyOczvrhEd/3QRBDpiGDAyov",
      "include_colab_link": true
    },
    "kernelspec": {
      "name": "python3",
      "display_name": "Python 3"
    },
    "language_info": {
      "name": "python"
    }
  },
  "cells": [
    {
      "cell_type": "markdown",
      "metadata": {
        "id": "view-in-github",
        "colab_type": "text"
      },
      "source": [
        "<a href=\"https://colab.research.google.com/github/Dice128/2025_PBO_TI1B/blob/main/Jobsheet2.ipynb\" target=\"_parent\"><img src=\"https://colab.research.google.com/assets/colab-badge.svg\" alt=\"Open In Colab\"/></a>"
      ]
    },
    {
      "cell_type": "markdown",
      "source": [
        "# Langkah Praktikum\n",
        "## Praktikum 1: Membuat dan Menggunakan Fungsi\n",
        "Kode Program"
      ],
      "metadata": {
        "id": "MXxvliQDrFfq"
      }
    },
    {
      "cell_type": "code",
      "source": [
        "# Fungsi Built-in\n",
        "# Fungsi print() adalah contoh fungsi built-in unutk mencetak output\n",
        "print(\"Ini adalah contoh fungsi built-in:\\n\")\n",
        "\n",
        "#Fungsi len() adalah contoh fungsi built-in untuk menghitung panjang suatu objek\n",
        "kata = \"Pemrograman\"\n",
        "panjang_kata = len(kata)\n",
        "print(f\"Panjang kata '{kata}' adalah: {panjang_kata}\")\n",
        "\n",
        "# Fungsi max() adalah contoh fungsi built-in untuk mencari nilai maksimum dari sebuah daftar\n",
        "angka = [10, 5, 30, 40, 25]\n",
        "nilai_max = max(angka)\n",
        "print(f\"Nilai maksimum dalam daftar {angka} adalah: {nilai_max}\\n\")\n",
        "\n",
        "# Fungsi User-Defined\n",
        "print(\"Ini adalah fungsi user-defined:\\n\")\n",
        "# Fungsi dengan satu parameter (Menerima satu nilai input)\n",
        "def cetak_kuadrat(angka):\n",
        "  #Menghitung kuadrat dari angka yang diterima sebagai parameter\n",
        "  print(f\"Kuadrat dari {angka} adalah: {angka**2}\")\n",
        "\n",
        "# Fungsi dengan beberapa parameter (menerima lebih dari satu nilai input)\n",
        "def hitung_luad_persegi_panjang(panjang, lebar):\n",
        "  # Menghitung luas persegi panjang\n",
        "  return panjang * lebar\n",
        "\n",
        "# Fungsi dengan beberapa tipe parameter (Menerima berbagai jenis data)\n",
        "def info_mahasiswa(nama, umur, ipk):\n",
        "  # Mencetak informasi mahasiswa\n",
        "  print(f\"Nama: {nama}, Umur: {umur} tahun, IPK: {ipk}\")\n",
        "\n",
        "# Fungis tanpa return value (Non-return value)\n",
        "def sapa_pengguna(nama):\n",
        "  # Fungsi ini hanya mencetak sapaann tanpa mengembalikan nilai\n",
        "  print(f\"Halo, {nama}! Selamat datang di dunia Python.\")\n",
        "\n",
        "# Fungsi dengan return value\n",
        "def hitung_keliling_persegi(sisi):\n",
        "  # Mengembalikan keliling persegi\n",
        "  return 4 * sisi\n",
        "\n",
        "# Pemanggilan fungsi dengan satu parameter\n",
        "cetak_kuadrat(5)\n",
        "\n",
        "# Pemanggilan fungsi dengan beberapa parameter\n",
        "luas_persegi = hitung_luad_persegi_panjang(10, 5)\n",
        "print(f\"Luas persegi panjang: {luas_persegi}\")\n",
        "\n",
        "# Pemanggilan fungsi dengan beberapa tipe parameter\n",
        "info_mahasiswa(\"Budi\", 22, 3.8)\n",
        "\n",
        "# Pemanggilan fungsi tanpa return value\n",
        "sapa_pengguna(\"Andi\")\n",
        "\n",
        "# Pemanggilan fungsi dengan return value\n",
        "keliling = hitung_keliling_persegi(5)\n",
        "print(f\"Keliling persegi dengan sisi 5 adalah: {keliling}\")"
      ],
      "metadata": {
        "colab": {
          "base_uri": "https://localhost:8080/"
        },
        "id": "-ws1WGnmrQdz",
        "outputId": "84822f00-7ac5-4b92-f47a-eb62763736b6"
      },
      "execution_count": null,
      "outputs": [
        {
          "output_type": "stream",
          "name": "stdout",
          "text": [
            "Ini adalah contoh fungsi built-in:\n",
            "\n",
            "Panjang kata 'Pemrograman' adalah: 11\n",
            "Nilai maksimum dalam daftar [10, 5, 30, 40, 25] adalah: 40\n",
            "\n",
            "Ini adalah fungsi user-defined:\n",
            "\n",
            "Kuadrat dari 5 adalah: 25\n",
            "Luas persegi panjang: 50\n",
            "Nama: Budi, Umur: 22 tahun, IPK: 3.8\n",
            "Halo, Andi! Selamat datang di dunia Python.\n",
            "Keliling persegi dengan sisi 5 adalah: 20\n"
          ]
        }
      ]
    },
    {
      "cell_type": "markdown",
      "source": [
        "## Praktikum 2: Modularisasi Kode dengan Fungsi\n",
        "1. Pisahkan fungsi perhitungan luas dan keliling ke dalam modul `geometri.py`\n",
        "2. Buat file Python pada google colab dengan cara 1) klik tombol files pada menu google colab, 2) tekan tomobll new file, 3) ubah nama file menjadi `geometri.py`\n",
        "3. Masukan kode program pada `geomteri.py`\n"
      ],
      "metadata": {
        "id": "XjOeknp5uxJd"
      }
    },
    {
      "cell_type": "code",
      "source": [
        "# File utama main.py yang mengimpor modul geometri.py\n",
        "\n",
        "# mengimpor modul geometri\n",
        "import geometri\n",
        "\n",
        "def main():\n",
        "  # menggunakan fungsi dari modul meong\n",
        "  luas_persegi = geometri.hitung_luas_persegi(5)\n",
        "  print(f\"Luas persegi dengan sisi 5 adalah: {luas_persegi}\")\n",
        "\n",
        "  luas_persegi_panjang = geometri.hitung_luas_persegi_panjang(10, 5)\n",
        "  print(f\"Luas persegi panjang dengan panjang 10 dan lebar 5 adalah: {luas_persegi_panjang}\")\n",
        "\n",
        "  luas_lingkaran = geometri.hitung_luas_lingkaran(7)\n",
        "  print(f\"Luas lingkaran dengan jari-jari 7 adalah: {luas_lingkaran}\")\n",
        "\n",
        "if __name__ == \"__main__\":\n",
        "  main()"
      ],
      "metadata": {
        "colab": {
          "base_uri": "https://localhost:8080/"
        },
        "id": "5P_SNHXWv-d5",
        "outputId": "f8124907-6f9a-4f7e-d564-ad9c240ebaba"
      },
      "execution_count": null,
      "outputs": [
        {
          "output_type": "stream",
          "name": "stdout",
          "text": [
            "Luas persegi dengan sisi 5 adalah: 25\n",
            "Luas persegi panjang dengan panjang 10 dan lebar 5 adalah: 50\n",
            "Luas lingkaran dengan jari-jari 7 adalah: 153.86\n"
          ]
        }
      ]
    },
    {
      "cell_type": "markdown",
      "source": [
        "## Praktikum 3: Membuat Kelas Sederhana\n",
        "Kode Program"
      ],
      "metadata": {
        "id": "KuR7sxSaxb9g"
      }
    },
    {
      "cell_type": "code",
      "source": [
        "# Kelas Buku untuk merepresentasikan buku di perpustakaan\n",
        "class Buku:\n",
        "  def __init__(self, judul, pengarang, tahun_terbit):\n",
        "    self.judul = judul\n",
        "    self.pengarang = pengarang\n",
        "    self.tahun_terbit = tahun_terbit\n",
        "    self.status = \"Tersedia\" # Status buku, default adalah Tersedia\n",
        "\n",
        "  def tampilkan_info(self):\n",
        "    print(f\"Judul: {self.judul}\")\n",
        "    print(f\"Pengarang: {self.pengarang}\")\n",
        "    print(f\"Tahun Terbit: {self.tahun_terbit}\")\n",
        "    print(f\"Status: {self.status}\")\n",
        "\n",
        "  def pinjam(self):\n",
        "    if self.status == \"Tersedia\":\n",
        "      self.status = \"Dipinjam\"\n",
        "      print(f\"Buku '{self.judul}' telah dipinjam.\")\n",
        "    else:\n",
        "      print(f\"Buku '{self.judul}' sedang dipinjam.\")\n",
        "\n",
        "  def kembalikan(self):\n",
        "    if self.status == \"Dipinjam\":\n",
        "      self.status = \"Tersedia\"\n",
        "      print(f\"Buku '{self.judul}' telah dikembalikan.\")\n",
        "    else:\n",
        "      print(f\"Buku '{self.judul}' tidak sedang dipinjam.\")\n",
        "\n",
        "# Membuat objek dari kelas Buku\n",
        "buku1 = Buku(\"Pemrograman Python\", \"John Doe\", 2021)\n",
        "buku2 = Buku(\"Data Science untuk Pemula\", \"Jane Smith\", 2020)\n",
        "print()\n",
        "\n",
        "# Menggunakan metode objek Buku\n",
        "buku1.tampilkan_info()\n",
        "buku2.pinjam()\n",
        "print()\n",
        "\n",
        "# Menubah status buku dan menampilkan informasi\n",
        "buku2.kembalikan()\n",
        "buku1.pinjam()\n",
        "buku1.tampilkan_info()\n",
        "\n",
        "\n",
        "# Kelas Mahasiswa untuk merepresentasikan Mahasiswa dalam kelas\n",
        "\n",
        "# Definisi kelas\n",
        "class Mahasiswa:\n",
        "  # Konstruktor (__init__) untuk menginisialisasi atribut objek\n",
        "  def __init__(self, nama, nim, umur):\n",
        "    self.nama = nama # Atribut objek nama\n",
        "    self.nim = nim # Atribut objek nim\n",
        "    self.umur = umur # Atribut objek umur\n",
        "\n",
        "  # Metode untuk mencetak informasi mahasiswa\n",
        "  def tampilkan_info(self):\n",
        "    print(f\"Nama: {self.nama}\")\n",
        "    print(f\"NIM: {self.nim}\")\n",
        "    print(f\"Umur: {self.umur} tahun\")\n",
        "\n",
        "  # Metode untuk merubah umur mahasiswa\n",
        "  def ubah_umur(self, umur_baru):\n",
        "    self.umur = umur_baru\n",
        "\n",
        "# Membuat objek (instance) dari kelas Mahasiswa\n",
        "mahasiswa1 = Mahasiswa(\"Andi\", \"12345\", 20)\n",
        "mahasiswa2 = Mahasiswa(\"Budi\", \"67890\", 22)\n",
        "print()\n",
        "\n",
        "# Menggunakan metode dari kelas mahasiswa\n",
        "mahasiswa1.tampilkan_info()\n",
        "print() # Baris kosong\n",
        "mahasiswa2.tampilkan_info()\n",
        "\n",
        "# Mengubah umur mahasiswa1 menggunakan metode ubah_umur\n",
        "mahasiswa1.ubah_umur(21)\n",
        "\n",
        "# Menampilkan info mahasiswa setelah umur diubah\n",
        "print(\"\\nSetelah mengubah umur mahasiswa1:\")\n",
        "mahasiswa1.tampilkan_info()"
      ],
      "metadata": {
        "colab": {
          "base_uri": "https://localhost:8080/"
        },
        "id": "CeNI_rEQxnj3",
        "outputId": "55d284e4-fe2e-4205-a8ed-fadc8ae2f9c3"
      },
      "execution_count": null,
      "outputs": [
        {
          "output_type": "stream",
          "name": "stdout",
          "text": [
            "\n",
            "Judul: Pemrograman Python\n",
            "Pengarang: John Doe\n",
            "Tahun Terbit: 2021\n",
            "Status: Tersedia\n",
            "Buku 'Data Science untuk Pemula' telah dipinjam.\n",
            "\n",
            "Buku 'Data Science untuk Pemula' telah dikembalikan.\n",
            "Buku 'Pemrograman Python' telah dipinjam.\n",
            "Judul: Pemrograman Python\n",
            "Pengarang: John Doe\n",
            "Tahun Terbit: 2021\n",
            "Status: Dipinjam\n",
            "\n",
            "Nama: Andi\n",
            "NIM: 12345\n",
            "Umur: 20 tahun\n",
            "\n",
            "Nama: Budi\n",
            "NIM: 67890\n",
            "Umur: 22 tahun\n",
            "\n",
            "Setelah mengubah umur mahasiswa1:\n",
            "Nama: Andi\n",
            "NIM: 12345\n",
            "Umur: 21 tahun\n"
          ]
        }
      ]
    },
    {
      "cell_type": "markdown",
      "source": [
        "## Praktikum 4: membuat dan Menggunakan Method dalam Kelas\n",
        "Kode Program"
      ],
      "metadata": {
        "id": "iXNtc0urz0bF"
      }
    },
    {
      "cell_type": "code",
      "source": [
        "from ast import mod\n",
        "# Kelas unutk menjelaskan atribut dan metode dalam kelas\n",
        "class Mobil:\n",
        "  def __init__(self, merk, warna, tahun, harga):\n",
        "    # Atribut yang dimiliki oleh objek Mobil\n",
        "    self.merk = merk\n",
        "    self.warna = warna\n",
        "    self.tahun = tahun\n",
        "    self.harga = harga\n",
        "\n",
        "  # Fungsi tanpa return value, hanya mencetak informasi\n",
        "  def tampilkan_info(self):\n",
        "    print(f\"Mobil {self.merk} berwarna {self.warna}, tahun {self.tahun}, harga: Rp {self.harga}\")\n",
        "\n",
        "  # Fungsi dengan satu parameter\n",
        "  def diskon(self, persen_diskon):\n",
        "    # Menghitung harga setelah diskon\n",
        "    diskon_harga = self.harga * (persen_diskon / 100)\n",
        "    harga_setelah_diskon = self.harga - diskon_harga\n",
        "    print(f\"Harga setelah diskon {persen_diskon}%: Rp {harga_setelah_diskon}\")\n",
        "    # Tidak mengembalikan nilai, hanya mencetak harga setelah diskon\n",
        "\n",
        "  # Fungsi dengan return value, menghitung usia mobil berdasarkan tahun\n",
        "  def hitung_usia(self, tahun_sekarang):\n",
        "    usia = tahun_sekarang - self.tahun\n",
        "    return usia\n",
        "\n",
        "  # Fungsi dengan beberapa parameter\n",
        "  def perbarui_harga(self, harga_baru, tahun_baru):\n",
        "    self.harga = harga_baru\n",
        "    self.tahun = tahun_baru\n",
        "    print(f\"harga dan tahun mobil {self.merk} diperbarui menjadi Rp {self.harga} dan tahun {self.tahun}\")\n",
        "\n",
        "# Membuat objek mobil\n",
        "mobil1 = Mobil(\"Toyota\", \"Hitam\", 2015, 300000000)\n",
        "mobil2 = Mobil(\"Honda\", \"Biru\", 2018, 250000000)\n",
        "print()\n",
        "\n",
        "# Menggunakan metode tanpa return value\n",
        "mobil1.tampilkan_info()\n",
        "mobil2.tampilkan_info()\n",
        "print()\n",
        "\n",
        "# Menggunakan metode dengan satu parameter (diskon)\n",
        "mobil1.diskon(10)\n",
        "mobil2.diskon(15)\n",
        "print()\n",
        "\n",
        "# Menggunakan metode dengan return value (hitung usia mobil)\n",
        "usia_mobil1 = mobil1.hitung_usia(2025)\n",
        "usia_mobil2 = mobil2.hitung_usia(2025)\n",
        "print()\n",
        "\n",
        "print(f\"Usia mobil1 pada tahun 2025: {usia_mobil1} tahun\")\n",
        "print(f\"Usia mobil2 pada tahun 2025: {usia_mobil2} tahun\")\n",
        "print()\n",
        "\n",
        "# Menggunakan metode dengan beberapa parameter (perbarui harga dan tahun)\n",
        "mobil1.perbarui_harga(280000000, 2022)\n",
        "mobil2.perbarui_harga(240000000, 2021)"
      ],
      "metadata": {
        "colab": {
          "base_uri": "https://localhost:8080/"
        },
        "id": "TbFxNiNhz5vV",
        "outputId": "b648f57d-9ceb-4667-e884-16bfdae9f3ae"
      },
      "execution_count": null,
      "outputs": [
        {
          "output_type": "stream",
          "name": "stdout",
          "text": [
            "\n",
            "Mobil Toyota berwarna Hitam, tahun 2015, harga: Rp 300000000\n",
            "Mobil Honda berwarna Biru, tahun 2018, harga: Rp 250000000\n",
            "\n",
            "Harga setelah diskon 10%: Rp 270000000.0\n",
            "Harga setelah diskon 15%: Rp 212500000.0\n",
            "\n",
            "\n",
            "Usia mobil1 pada tahun 2025: 10 tahun\n",
            "Usia mobil2 pada tahun 2025: 7 tahun\n",
            "\n",
            "harga dan tahun mobil Toyota diperbarui menjadi Rp 280000000 dan tahun 2022\n",
            "harga dan tahun mobil Honda diperbarui menjadi Rp 240000000 dan tahun 2021\n"
          ]
        }
      ]
    },
    {
      "cell_type": "markdown",
      "source": [
        "# Penugasan\n",
        "### Deskripsi\n",
        "Buat Program: Lihat kembali praktikum 02. Modularisasi dan 03. Kelas sederhana. Buat program sederhana menggunakan dua konsep diatas tentang(Pilih salah satu: A. Penjualan HP, B. Jadwal kelas, C. Parkir Roda Dua)\n",
        "\n",
        "#### Program Jadwal Kelas"
      ],
      "metadata": {
        "id": "irePspOr2Ulg"
      }
    },
    {
      "cell_type": "code",
      "source": [
        "\n",
        "import os\n",
        "import Jadwal_kelas\n",
        "\n",
        "def main():\n",
        "    mahasiswa_list = [\"Budi\", \"Siti\", \"Rina\", \"Doni\", \"Tono\", \"Lina\", \"Rizky\", \"Ani\", \"Eka\", \"Joko\", \"Nina\", \"Fajar\", \"Bayu\", \"Mira\", \"Dewi\", \"Hadi\"]\n",
        "    jadwal = [\n",
        "        JadwalKelas(\"Algoritma\", \"Senin\", \"08:00 - 10:00\", \"Ruang 101\", \"Dr. Andi\", mahasiswa_list[:4]),\n",
        "        JadwalKelas(\"Basis Data\", \"Senin\", \"10:00 - 12:00\", \"Ruang 102\", \"Prof. Bambang\", mahasiswa_list[4:8]),\n",
        "        JadwalKelas(\"Sistem Operasi\", \"Selasa\", \"08:00 - 10:00\", \"Ruang 201\", \"Dr. Andi\", mahasiswa_list[8:12]),\n",
        "        JadwalKelas(\"Jaringan Komputer\", \"Selasa\", \"10:00 - 12:00\", \"Ruang 202\", \"Dr. Citra\", mahasiswa_list[12:16]),\n",
        "        JadwalKelas(\"Pemrograman Web\", \"Rabu\", \"08:00 - 10:00\", \"Ruang 301\", \"Dr. Dedy\", mahasiswa_list[:4]),\n",
        "        JadwalKelas(\"Kecerdasan Buatan\", \"Rabu\", \"10:00 - 12:00\", \"Ruang 302\", \"Prof. Erwin\", mahasiswa_list[4:8]),\n",
        "        JadwalKelas(\"Manajemen Proyek\", \"Kamis\", \"08:00 - 10:00\", \"Ruang 401\", \"Dr. Fajar\", mahasiswa_list[8:12]),\n",
        "        JadwalKelas(\"Keamanan Informasi\", \"Kamis\", \"10:00 - 12:00\", \"Ruang 402\", \"Dr. Gita\", mahasiswa_list[12:16])\n",
        "    ]\n",
        "\n",
        "    while True:\n",
        "        tampilkan_menu()\n",
        "        pilihan = input(\"Pilih menu: \")\n",
        "\n",
        "        if pilihan == \"1\":\n",
        "            print(\"\\n========== JADWAL KESELURUHAN ==========\\n\")\n",
        "            for j in jadwal:\n",
        "                print(j.tampilkan_jadwal())\n",
        "\n",
        "        elif pilihan == \"2\":\n",
        "            dosen_list = list(set(j.dosen for j in jadwal))\n",
        "            print(\"\\n========== DAFTAR DOSEN ==========\\n\")\n",
        "            for idx, dosen in enumerate(dosen_list, 1):\n",
        "                print(f\"{idx}. {dosen}\")\n",
        "            pilihan_dosen = int(input(\"Pilih nomor dosen: \"))\n",
        "            nama_dosen = dosen_list[pilihan_dosen - 1]\n",
        "            print(f\"\\n========== JADWAL DOSEN {nama_dosen} ==========\\n\")\n",
        "            for j in jadwal:\n",
        "                if j.cek_dosen(nama_dosen):\n",
        "                    print(j.tampilkan_jadwal())\n",
        "\n",
        "        elif pilihan == \"3\":\n",
        "            print(\"\\n========== DAFTAR MAHASISWA ==========\\n\")\n",
        "            for idx, mahasiswa in enumerate(mahasiswa_list, 1):\n",
        "                print(f\"{idx}. {mahasiswa}\")\n",
        "            pilihan_mahasiswa = int(input(\"Pilih nomor mahasiswa: \"))\n",
        "            nama_mahasiswa = mahasiswa_list[pilihan_mahasiswa - 1]\n",
        "            print(f\"\\n========== JADWAL MAHASISWA {nama_mahasiswa} ==========\\n\")\n",
        "            for j in jadwal:\n",
        "                if j.cek_mahasiswa(nama_mahasiswa):\n",
        "                    print(j.tampilkan_jadwal())\n",
        "\n",
        "        elif pilihan == \"4\":\n",
        "            print(\"\\n========== TAMBAH JADWAL ==========\\n\")\n",
        "            mata_kuliah_baru = input(\"Masukkan mata kuliah baru: \")\n",
        "            hari = input(\"Masukkan hari: \")\n",
        "            jam = input(\"Masukkan jam: \")\n",
        "            ruangan = input(\"Masukkan ruangan: \")\n",
        "            dosen = input(\"Masukkan nama dosen: \")\n",
        "            jadwal.append(JadwalKelas(mata_kuliah_baru, hari, jam, ruangan, dosen, []))\n",
        "            print(\"Jadwal berhasil ditambahkan!\")\n",
        "\n",
        "        elif pilihan == \"5\":\n",
        "            print(\"\\n========== HAPUS JADWAL ==========\\n\")\n",
        "            for idx, j in enumerate(jadwal, 1):\n",
        "                print(f\"{idx}. {j.mata_kuliah} - {j.hari}\")\n",
        "            pilihan_hapus = int(input(\"Pilih nomor jadwal yang ingin dihapus: \"))\n",
        "            if 1 <= pilihan_hapus <= len(jadwal):\n",
        "                del jadwal[pilihan_hapus - 1]\n",
        "                print(\"Jadwal berhasil dihapus!\")\n",
        "            else:\n",
        "                print(\"Pilihan tidak valid.\")\n",
        "\n",
        "        elif pilihan == \"6\":\n",
        "            print()\n",
        "            print(\"Terima kasih!\")\n",
        "            break\n",
        "        else:\n",
        "            print(\"Pilihan tidak valid, silakan coba lagi.\")\n",
        "\n",
        "if __name__ == \"__main__\":\n",
        "    main()"
      ],
      "metadata": {
        "colab": {
          "base_uri": "https://localhost:8080/",
          "height": 401
        },
        "id": "kdWPiRRz-jmr",
        "outputId": "b37237e6-e669-4935-d028-23ee82d6554f"
      },
      "execution_count": 1,
      "outputs": [
        {
          "output_type": "error",
          "ename": "ModuleNotFoundError",
          "evalue": "No module named 'Jadwal_kelas'",
          "traceback": [
            "\u001b[0;31m---------------------------------------------------------------------------\u001b[0m",
            "\u001b[0;31mModuleNotFoundError\u001b[0m                       Traceback (most recent call last)",
            "\u001b[0;32m<ipython-input-1-9b35f5ef76d6>\u001b[0m in \u001b[0;36m<cell line: 0>\u001b[0;34m()\u001b[0m\n\u001b[1;32m      1\u001b[0m \u001b[0;32mimport\u001b[0m \u001b[0mos\u001b[0m\u001b[0;34m\u001b[0m\u001b[0;34m\u001b[0m\u001b[0m\n\u001b[0;32m----> 2\u001b[0;31m \u001b[0;32mimport\u001b[0m \u001b[0mJadwal_kelas\u001b[0m\u001b[0;34m\u001b[0m\u001b[0;34m\u001b[0m\u001b[0m\n\u001b[0m\u001b[1;32m      3\u001b[0m \u001b[0;34m\u001b[0m\u001b[0m\n\u001b[1;32m      4\u001b[0m \u001b[0;32mdef\u001b[0m \u001b[0mmain\u001b[0m\u001b[0;34m(\u001b[0m\u001b[0;34m)\u001b[0m\u001b[0;34m:\u001b[0m\u001b[0;34m\u001b[0m\u001b[0;34m\u001b[0m\u001b[0m\n\u001b[1;32m      5\u001b[0m     \u001b[0mmahasiswa_list\u001b[0m \u001b[0;34m=\u001b[0m \u001b[0;34m[\u001b[0m\u001b[0;34m\"Budi\"\u001b[0m\u001b[0;34m,\u001b[0m \u001b[0;34m\"Siti\"\u001b[0m\u001b[0;34m,\u001b[0m \u001b[0;34m\"Rina\"\u001b[0m\u001b[0;34m,\u001b[0m \u001b[0;34m\"Doni\"\u001b[0m\u001b[0;34m,\u001b[0m \u001b[0;34m\"Tono\"\u001b[0m\u001b[0;34m,\u001b[0m \u001b[0;34m\"Lina\"\u001b[0m\u001b[0;34m,\u001b[0m \u001b[0;34m\"Rizky\"\u001b[0m\u001b[0;34m,\u001b[0m \u001b[0;34m\"Ani\"\u001b[0m\u001b[0;34m,\u001b[0m \u001b[0;34m\"Eka\"\u001b[0m\u001b[0;34m,\u001b[0m \u001b[0;34m\"Joko\"\u001b[0m\u001b[0;34m,\u001b[0m \u001b[0;34m\"Nina\"\u001b[0m\u001b[0;34m,\u001b[0m \u001b[0;34m\"Fajar\"\u001b[0m\u001b[0;34m,\u001b[0m \u001b[0;34m\"Bayu\"\u001b[0m\u001b[0;34m,\u001b[0m \u001b[0;34m\"Mira\"\u001b[0m\u001b[0;34m,\u001b[0m \u001b[0;34m\"Dewi\"\u001b[0m\u001b[0;34m,\u001b[0m \u001b[0;34m\"Hadi\"\u001b[0m\u001b[0;34m]\u001b[0m\u001b[0;34m\u001b[0m\u001b[0;34m\u001b[0m\u001b[0m\n",
            "\u001b[0;31mModuleNotFoundError\u001b[0m: No module named 'Jadwal_kelas'",
            "",
            "\u001b[0;31m---------------------------------------------------------------------------\u001b[0;32m\nNOTE: If your import is failing due to a missing package, you can\nmanually install dependencies using either !pip or !apt.\n\nTo view examples of installing some common dependencies, click the\n\"Open Examples\" button below.\n\u001b[0;31m---------------------------------------------------------------------------\u001b[0m\n"
          ],
          "errorDetails": {
            "actions": [
              {
                "action": "open_url",
                "actionText": "Open Examples",
                "url": "/notebooks/snippets/importing_libraries.ipynb"
              }
            ]
          }
        }
      ]
    }
  ]
}